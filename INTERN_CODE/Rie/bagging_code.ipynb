{
 "cells": [
  {
   "cell_type": "code",
   "execution_count": 1,
   "metadata": {},
   "outputs": [],
   "source": [
    "%matplotlib inline\n",
    "import pandas as pd\n",
    "import numpy as np\n",
    "import matplotlib.pyplot as plt\n",
    "from astropy.table import Table\n",
    "from sklearn.tree import DecisionTreeClassifier\n",
    "import random\n",
    "from sklearn import tree"
   ]
  },
  {
   "cell_type": "code",
   "execution_count": 9,
   "metadata": {},
   "outputs": [
    {
     "name": "stdout",
     "output_type": "stream",
     "text": [
      "100\n",
      "100\n",
      "100\n",
      "100\n",
      "100\n"
     ]
    }
   ],
   "source": [
    "#fake data\n",
    "\n",
    "temps = []\n",
    "spec_type = []\n",
    "luminosity = []\n",
    "mass = []\n",
    "ages = []\n",
    "\n",
    "for i in range(0,100):\n",
    "    temp = random.randint(3500, 60000)\n",
    "    spec = random.randint(0,7)\n",
    "    luminos = random.randint(1,1000000)\n",
    "    masss = random.randint(1,100)\n",
    "    age = random.randint(100000,13000000)\n",
    "    temps.append(temp)\n",
    "    spec_type.append(spec)\n",
    "    luminosity.append(luminos)\n",
    "    mass.append(masss)\n",
    "    ages.append(age)\n",
    "\n",
    "\n",
    "print(len(temps))\n",
    "print(len(spec_type))\n",
    "print(len(luminosity))\n",
    "print(len(mass))\n",
    "print(len(ages))\n",
    "\n",
    "\n",
    "\n"
   ]
  },
  {
   "cell_type": "code",
   "execution_count": null,
   "metadata": {},
   "outputs": [],
   "source": [
    "temps are in range 3500 to 60000\n",
    "spec_type are in range 0 to 7\n",
    "luminosity are in range 1 to 1000000\n",
    "mass are in range 1 to 100\n",
    "ages are in range 100000 to 13000000"
   ]
  },
  {
   "cell_type": "code",
   "execution_count": 17,
   "metadata": {},
   "outputs": [],
   "source": [
    "#d = {'temps': temps, 'spec_type': spec_type, 'luminosity': luminosity, 'mass': mass}\n",
    "#df = pd.DataFrame(data=d)\n"
   ]
  },
  {
   "cell_type": "code",
   "execution_count": 18,
   "metadata": {},
   "outputs": [],
   "source": [
    "data_df = pd.DataFrame({'temps': temps, 'spec_type': spec_type, 'luminosity': luminosity, 'mass': mass})\n",
    "data_table = Table([temps,spec_type,luminosity,mass],names=('temps','spec_type','luminosity','mass'))\n",
    "correct_labels = ages\n"
   ]
  },
  {
   "cell_type": "code",
   "execution_count": 21,
   "metadata": {},
   "outputs": [
    {
     "data": {
      "text/plain": [
       "(    temps  spec_type  luminosity  mass\n",
       " 0   48583          4      740317    77\n",
       " 1   27770          1      298770    87\n",
       " 2   45850          6      836279    30\n",
       " 3   45924          5      481700    26\n",
       " 4    7921          6      445169    74\n",
       " 5   11744          0       62047    23\n",
       " 6   12583          1      366337    98\n",
       " 7   48785          0      658445    64\n",
       " 8   49643          0      984557    73\n",
       " 9   59727          0      478701    67\n",
       " 10  49986          4      149695    10\n",
       " 11  11917          3      296331     8\n",
       " 12  48322          2      924703    61\n",
       " 13  32661          0       75283    79\n",
       " 14  27713          5       89666    84\n",
       " 15  30771          5      497783    16\n",
       " 16  12765          3      705114    28\n",
       " 17  16624          1      115661    46\n",
       " 18  16636          5      674682    34\n",
       " 19  37017          4      827573    54\n",
       " 20  48897          5      262539    11\n",
       " 21  26816          6      951618    53\n",
       " 22  15358          6        2683    91\n",
       " 23  15006          3      964907    64\n",
       " 24  28284          3      129553    24\n",
       " 25  13985          2      477203    98\n",
       " 26  45378          1      968882    82\n",
       " 27  12539          5      401775    70\n",
       " 28  14635          0      511528    12\n",
       " 29   5732          6      274925    26\n",
       " ..    ...        ...         ...   ...\n",
       " 70   9665          3      972003    47\n",
       " 71   9085          1      259496    25\n",
       " 72  45617          6      244609    65\n",
       " 73  13903          6      311988    82\n",
       " 74  41618          3      972654    35\n",
       " 75  12396          4      709239    68\n",
       " 76  30797          0      619145    38\n",
       " 77  44883          6       82383    37\n",
       " 78  48623          4      695357    51\n",
       " 79  18410          3      425992     1\n",
       " 80   6291          6      997813    49\n",
       " 81  30998          2       56233    91\n",
       " 82  54287          1      520437    34\n",
       " 83   3860          1       62343     4\n",
       " 84  28312          2      983883    97\n",
       " 85  54586          3      535828    61\n",
       " 86  31050          6      584832    49\n",
       " 87  31656          6      169745    64\n",
       " 88  16442          3      641273    90\n",
       " 89  48843          4      628609    12\n",
       " 90  22287          1      716624    47\n",
       " 91  26836          1      612780    69\n",
       " 92  17515          3      931662    96\n",
       " 93  38123          5      548677   100\n",
       " 94  51621          2      458457   100\n",
       " 95  54532          5      966489    46\n",
       " 96  57064          2      905320    77\n",
       " 97  59224          4      148938    75\n",
       " 98  18866          1       88613    63\n",
       " 99  25354          6      240751    68\n",
       " \n",
       " [100 rows x 4 columns], <Table length=100>\n",
       " temps spec_type luminosity  mass\n",
       " int64   int64     int64    int64\n",
       " ----- --------- ---------- -----\n",
       " 48583         4     740317    77\n",
       " 27770         1     298770    87\n",
       " 45850         6     836279    30\n",
       " 45924         5     481700    26\n",
       "  7921         6     445169    74\n",
       " 11744         0      62047    23\n",
       " 12583         1     366337    98\n",
       " 48785         0     658445    64\n",
       " 49643         0     984557    73\n",
       " 59727         0     478701    67\n",
       "   ...       ...        ...   ...\n",
       " 22287         1     716624    47\n",
       " 26836         1     612780    69\n",
       " 17515         3     931662    96\n",
       " 38123         5     548677   100\n",
       " 51621         2     458457   100\n",
       " 54532         5     966489    46\n",
       " 57064         2     905320    77\n",
       " 59224         4     148938    75\n",
       " 18866         1      88613    63\n",
       " 25354         6     240751    68, [2032288,\n",
       "  2567810,\n",
       "  3335149,\n",
       "  9518258,\n",
       "  11364958,\n",
       "  4428348,\n",
       "  10530895,\n",
       "  6831028,\n",
       "  12074800,\n",
       "  9719730,\n",
       "  10932212,\n",
       "  1966960,\n",
       "  7511820,\n",
       "  6310714,\n",
       "  6952294,\n",
       "  11659594,\n",
       "  10267620,\n",
       "  10738639,\n",
       "  7576610,\n",
       "  4870269,\n",
       "  6552279,\n",
       "  2435591,\n",
       "  8955966,\n",
       "  1177600,\n",
       "  12490204,\n",
       "  3568552,\n",
       "  12362905,\n",
       "  12852248,\n",
       "  6102040,\n",
       "  3798374,\n",
       "  5840105,\n",
       "  8265022,\n",
       "  4800975,\n",
       "  12028782,\n",
       "  12166594,\n",
       "  1204558,\n",
       "  4592498,\n",
       "  10686556,\n",
       "  5686937,\n",
       "  7769343,\n",
       "  11581594,\n",
       "  12235768,\n",
       "  4762295,\n",
       "  409713,\n",
       "  6694502,\n",
       "  4347133,\n",
       "  7990421,\n",
       "  8411387,\n",
       "  10975900,\n",
       "  10857939,\n",
       "  3807324,\n",
       "  5414810,\n",
       "  6204602,\n",
       "  9292525,\n",
       "  7246154,\n",
       "  10229527,\n",
       "  11017627,\n",
       "  1551439,\n",
       "  11667310,\n",
       "  12934537,\n",
       "  9764426,\n",
       "  2450546,\n",
       "  9421328,\n",
       "  6012666,\n",
       "  6298994,\n",
       "  4482851,\n",
       "  6057171,\n",
       "  4596215,\n",
       "  2262120,\n",
       "  1378841,\n",
       "  8331872,\n",
       "  4032901,\n",
       "  10737434,\n",
       "  2822113,\n",
       "  3045724,\n",
       "  8444511,\n",
       "  4343820,\n",
       "  4506942,\n",
       "  11479028,\n",
       "  1727067,\n",
       "  12502852,\n",
       "  1371925,\n",
       "  854444,\n",
       "  3285590,\n",
       "  8604601,\n",
       "  2717275,\n",
       "  11722856,\n",
       "  6215094,\n",
       "  794540,\n",
       "  6481871,\n",
       "  2843504,\n",
       "  11179751,\n",
       "  6521697,\n",
       "  4130993,\n",
       "  3192811,\n",
       "  7787577,\n",
       "  12056499,\n",
       "  2842941,\n",
       "  8587735,\n",
       "  6494733])"
      ]
     },
     "execution_count": 21,
     "metadata": {},
     "output_type": "execute_result"
    }
   ],
   "source": [
    "data_df, data_table, correct_labels"
   ]
  },
  {
   "cell_type": "code",
   "execution_count": 41,
   "metadata": {},
   "outputs": [
    {
     "name": "stdout",
     "output_type": "stream",
     "text": [
      "7\n",
      "11\n",
      "10\n",
      "46\n",
      "21\n",
      "94\n",
      "85\n",
      "39\n",
      "32\n",
      "77\n"
     ]
    }
   ],
   "source": [
    "random.seed(2)\n",
    "indices= []\n",
    "for i in range(0,10):\n",
    "    indices.append(random.randint(0,100))\n",
    "    \n",
    "data_subset=[]\n",
    "labels_subset=[]\n",
    "for i in indices:\n",
    "    print(i)\n",
    "    data_subset.append(data_table[i])\n",
    "    labels_subset.append(data_table[i])"
   ]
  },
  {
   "cell_type": "code",
   "execution_count": 42,
   "metadata": {},
   "outputs": [],
   "source": [
    "model = DecisionTreeClassifier()\n",
    "subset_tree_fit = model.fit(data_subset, labels_subset)"
   ]
  },
  {
   "cell_type": "code",
   "execution_count": null,
   "metadata": {},
   "outputs": [],
   "source": [
    "#plt.figure(figsize=(20,15))\n",
    "#tree.plot_tree(subset_tree_fit);"
   ]
  },
  {
   "cell_type": "code",
   "execution_count": 46,
   "metadata": {},
   "outputs": [
    {
     "name": "stdout",
     "output_type": "stream",
     "text": [
      "30\n",
      "38\n",
      "13\n",
      "92\n",
      "50\n",
      "61\n",
      "19\n",
      "11\n",
      "8\n",
      "2\n"
     ]
    }
   ],
   "source": [
    "random.seed(4)\n",
    "indices= []\n",
    "for i in range(0,10):\n",
    "    indices.append(random.randint(0,100))\n",
    "    \n",
    "data_subset=[]\n",
    "labels_subset=[]\n",
    "for i in indices:\n",
    "    print(i)\n",
    "    data_subset.append(data_table[i])\n",
    "    labels_subset.append(data_table[i])"
   ]
  },
  {
   "cell_type": "code",
   "execution_count": 47,
   "metadata": {},
   "outputs": [],
   "source": [
    "model = DecisionTreeClassifier()\n",
    "subset_tree_fit = model.fit(data_subset, labels_subset)"
   ]
  },
  {
   "cell_type": "code",
   "execution_count": 48,
   "metadata": {},
   "outputs": [
    {
     "name": "stdout",
     "output_type": "stream",
     "text": [
      "23\n",
      "15\n",
      "84\n",
      "57\n",
      "42\n",
      "30\n",
      "25\n",
      "62\n",
      "80\n",
      "63\n"
     ]
    }
   ],
   "source": [
    "random.seed(18)\n",
    "indices= []\n",
    "for i in range(0,10):\n",
    "    indices.append(random.randint(0,100))\n",
    "    \n",
    "data_subset=[]\n",
    "labels_subset=[]\n",
    "for i in indices:\n",
    "    print(i)\n",
    "    data_subset.append(data_table[i])\n",
    "    labels_subset.append(data_table[i])"
   ]
  },
  {
   "cell_type": "code",
   "execution_count": 49,
   "metadata": {},
   "outputs": [],
   "source": [
    "model = DecisionTreeClassifier()\n",
    "subset_tree_fit = model.fit(data_subset, labels_subset)"
   ]
  },
  {
   "cell_type": "code",
   "execution_count": 40,
   "metadata": {},
   "outputs": [],
   "source": [
    "#plt.figure(figsize=(20,15))\n",
    "#tree.plot_tree(subset_tree_fit);"
   ]
  },
  {
   "cell_type": "code",
   "execution_count": null,
   "metadata": {},
   "outputs": [],
   "source": []
  }
 ],
 "metadata": {
  "kernelspec": {
   "display_name": "Python 3",
   "language": "python",
   "name": "python3"
  },
  "language_info": {
   "codemirror_mode": {
    "name": "ipython",
    "version": 3
   },
   "file_extension": ".py",
   "mimetype": "text/x-python",
   "name": "python",
   "nbconvert_exporter": "python",
   "pygments_lexer": "ipython3",
   "version": "3.7.3"
  }
 },
 "nbformat": 4,
 "nbformat_minor": 2
}
