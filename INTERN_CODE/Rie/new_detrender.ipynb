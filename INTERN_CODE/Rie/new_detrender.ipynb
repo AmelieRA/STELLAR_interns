{
 "cells": [
  {
   "cell_type": "code",
   "execution_count": null,
   "metadata": {},
   "outputs": [],
   "source": [
    "import lightkurve as lk\n",
    "import numpy as np\n",
    "import glob\n",
    "\n",
    "def detrend_data(star_id_list):\n",
    "    detrended_list = []\n",
    "    target_id_list =[]   \n",
    "    sector_list = []\n",
    "    for i in star_id_list:\n",
    "        si = str(i)\n",
    "        print('starting dl for target:', si)\n",
    "        starpath = glob.glob('LightCurves/*{}-*-s_lc.fits'.format(si))\n",
    "        print('found {} files'.format(len(starpath)))\n",
    "        for file in starpath:\n",
    "        \tprint('working on:',file)\n",
    "        \tlcf = lk.open(file)\n",
    "        \thdr = lcf.header()\n",
    "        \tsector = hdr['SECTOR']\n",
    "        \tdetrended_data = lcf.PDCSAP_FLUX\n",
    "        \ttarget_id = detrended_data.targetid\n",
    "        \tsector_list.append(sector)\n",
    "        \tdetrended_list.append(detrended_data)\n",
    "        \ttarget_id_list.append(si)\n",
    "        \t#print('left here')\n",
    "        info_ = np.array([target_id_list,sector_list],np.int32)\n",
    "    return detrended_list, info_"
   ]
  }
 ],
 "metadata": {
  "kernelspec": {
   "display_name": "Python 3",
   "language": "python",
   "name": "python3"
  },
  "language_info": {
   "codemirror_mode": {
    "name": "ipython",
    "version": 3
   },
   "file_extension": ".py",
   "mimetype": "text/x-python",
   "name": "python",
   "nbconvert_exporter": "python",
   "pygments_lexer": "ipython3",
   "version": "3.7.3"
  }
 },
 "nbformat": 4,
 "nbformat_minor": 2
}
