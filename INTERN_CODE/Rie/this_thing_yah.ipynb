{
 "cells": [
  {
   "cell_type": "code",
   "execution_count": 1,
   "metadata": {},
   "outputs": [],
   "source": [
    "#tic = num\n",
    "#\n",
    "#np.load('stit...data/{}flux.npy'.format(tic))\n",
    "\n",
    "#model = iss.rotationmodel(time,flu, fluxerr)\n",
    "#rp=model.ls_rotation() #measuring rotation period w long scargle\n",
    "#to see long scargle periodagram rotate.ls_plot\n"
   ]
  },
  {
   "cell_type": "code",
   "execution_count": 3,
   "metadata": {},
   "outputs": [],
   "source": [
    "import numpy as np\n",
    "import pandas as pd\n",
    "def calculate(tic,plots=False): #w only tic, it would still be plots=false\n",
    "    try:\n",
    "        flux = np.load('stitched_data/{}/flux.npy'.format(tic))\n",
    "        time = np.load('stitched_data/{}/time.npy'.format(tic))\n",
    "        fluxerr = np.load('stitched_data/{}/fluxerr.npy'.format(tic))\n",
    "    except FileNotFoundError as err: #tries to open files unless it gets this specific error\n",
    "        print('file for TIC {} doesnt exist'.format(tic),err)\n",
    "        rp = 'no rotation period b/c no file'\n",
    "    else:\n",
    "        model = iss.RotationModel(time,flux,fluxerr)\n",
    "        rp = model.ls_rotation() #doing ls to get rp\n",
    "        if plots == True: #if plots is true make the true plots\n",
    "            model.ls_plot()\n",
    "            model.lc_plot()\n",
    "        else:\n",
    "            pass\n",
    "    return rp #in days\n",
    "#pass and continue\n",
    "#pass: theres no code to execute here: want rotation period\n",
    "#continue: there's no code to execute here, start next iteration, jumps back up\n",
    "#a try statement lets u try some code, and if it would have an error, if u use try then exept and its an error it will skip to the exept\n"
   ]
  },
  {
   "cell_type": "code",
   "execution_count": null,
   "metadata": {},
   "outputs": [],
   "source": []
  }
 ],
 "metadata": {
  "kernelspec": {
   "display_name": "Python 3",
   "language": "python",
   "name": "python3"
  },
  "language_info": {
   "codemirror_mode": {
    "name": "ipython",
    "version": 3
   },
   "file_extension": ".py",
   "mimetype": "text/x-python",
   "name": "python",
   "nbconvert_exporter": "python",
   "pygments_lexer": "ipython3",
   "version": "3.7.3"
  }
 },
 "nbformat": 4,
 "nbformat_minor": 2
}
