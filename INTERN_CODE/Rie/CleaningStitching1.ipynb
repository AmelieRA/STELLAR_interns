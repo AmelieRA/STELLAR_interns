{
 "cells": [
  {
   "cell_type": "code",
   "execution_count": null,
   "metadata": {},
   "outputs": [],
   "source": [
    "import newdetrender as ndt\n",
    "from astropy.table import Table\n",
    "import numpy as np\n",
    "import matplotlib.pyplot as plt\n",
    "import os\n",
    "import pandas as pd"
   ]
  },
  {
   "cell_type": "code",
   "execution_count": null,
   "metadata": {},
   "outputs": [],
   "source": [
    "stars = np.read_csv('data/Rie_stars.csv')\n",
    "stars"
   ]
  },
  {
   "cell_type": "markdown",
   "metadata": {},
   "source": [
    "# This Notebook is to clean & stitch ALL sectors from observations of ONE star\n",
    "This notebook should be in the same location as the **'newdetrender.py'** file  \n",
    "& the **\"LightCurves\"** folder that we airdropped to everyone\n",
    "\n",
    "- _You should only have to amend the cells with stuff above the double hashtag rows_  #################################################################################  #################################################################################  "
   ]
  },
  {
   "cell_type": "code",
   "execution_count": null,
   "metadata": {},
   "outputs": [],
   "source": [
    "# name variable of target id number aka tic number aka which star we are working on\n",
    "star = [38461205]\n",
    "\n",
    "#################################################################################\n",
    "#################################################################################\n"
   ]
  },
  {
   "cell_type": "code",
   "execution_count": null,
   "metadata": {},
   "outputs": [],
   "source": [
    "# run new detrender\n",
    "\n",
    "#################################################################################\n",
    "#################################################################################\n",
    "lightcurves, stats = ndt.detrend_data(star)"
   ]
  },
  {
   "cell_type": "code",
   "execution_count": null,
   "metadata": {},
   "outputs": [],
   "source": [
    "#organizing data into easy to read table\n",
    "\n",
    "\n",
    "#################################################################################\n",
    "#################################################################################\n",
    "lc_index = np.arange(0,len(lightcurves),1)\n",
    "mytable = Table([lc_index, stats[0],stats[1]], names =('lc_index','star_id','sector'))\n",
    "mytable"
   ]
  },
  {
   "cell_type": "code",
   "execution_count": null,
   "metadata": {},
   "outputs": [],
   "source": [
    "#use a dictionary to organize variables based on table above\n",
    "\n",
    "sectors = {'1': lightcurves[3], '2':lightcurves[5], '3': lightcurves[9], \\\n",
    "           '4':lightcurves[0],'5': lightcurves[4],'6': 'no data','7':lightcurves[1], \\\n",
    "           '8':lightcurves[2],'9': 'no data' ,'10': lightcurves[8],'11': lightcurves[10],'12': lightcurves[7],'13': lightcurves[6]}\n",
    "\n",
    "#'5':'no data'\n",
    "#MOST IMPORTANT CELL\n",
    "#turning table into dictionary\n",
    "#locate ID from sectro\n",
    "\n",
    "#sector values are 'strings' above \n",
    "#lightcurves indices (lc_index) are inside []\n",
    "#################################################################################\n",
    "#################################################################################\n",
    "\n",
    "print('it is VERY VERY VERY VERY important that this dictionary is accurate \\n' \\\n",
    "        '- triple check this matches table above!!')"
   ]
  },
  {
   "cell_type": "code",
   "execution_count": null,
   "metadata": {},
   "outputs": [],
   "source": [
    "#creating a function to help debug if variables get confused\n",
    "\n",
    "#################################################################################\n",
    "#################################################################################\n",
    "#sector u think ur working with\n",
    "def sector_check(sector_i_think):\n",
    "    if sector_i_think == sector:\n",
    "        return print('yup! sector is:',sector)\n",
    "    else:\n",
    "        return print('nah, sector is really:',sector)"
   ]
  },
  {
   "cell_type": "markdown",
   "metadata": {},
   "source": [
    "# Clean - Sector  1\n"
   ]
  },
  {
   "cell_type": "code",
   "execution_count": null,
   "metadata": {},
   "outputs": [],
   "source": [
    "# STEP ONE\n",
    "#name sector you are working on\n",
    "sector = '1' \n",
    "#name these values\n",
    "#none\n",
    "beginmask = 1598\n",
    "endmask = 1599\n",
    "\n",
    "\n",
    "################################################################################\n",
    "################################################################################\n",
    "\n",
    "#finding bad bits to mask\n",
    "sectors[sector].scatter()\n",
    "plt.axvline(beginmask,color = 'r',linestyle = '--')\n",
    "plt.axvline(endmask,color = 'b',linestyle='--')\n",
    "\n",
    "#removing outliers\n",
    "lc = sectors[sector].remove_outliers()\n",
    "\n",
    "#creates dictionary of the 3 separate data arrays needed PER sector\n",
    "data = {'flux': lc.flux,'flux_err': lc.flux_err, 'time':lc.time} "
   ]
  },
  {
   "cell_type": "code",
   "execution_count": null,
   "metadata": {},
   "outputs": [],
   "source": [
    "# STEP TWO\n",
    "# Masking Cell \n",
    "#this cell is only needed if there are regions of bad bits to mask\n",
    "\n",
    "################################################################################\n",
    "################################################################################\n",
    "\n",
    "#create mask based on time array\n",
    "mask = (data['time'] > beginmask) & (data['time'] < endmask) #uses values from above\n",
    "\n",
    "#applying mask.....saved masked arrays in a dictionary\n",
    "masked_data = {'time': data['time'][~mask], 'flux': data['flux'][~mask], \\\n",
    "               'flux_err': data['flux_err'][~mask]}"
   ]
  },
  {
   "cell_type": "code",
   "execution_count": null,
   "metadata": {},
   "outputs": [],
   "source": [
    "# STEP THREE\n",
    "#normalizing data & verifying mask works\n",
    "\n",
    "#################################################################################\n",
    "#################################################################################\n",
    "\n",
    "#normalizing\n",
    "clean_flux = masked_data['flux'] / np.mean(masked_data['flux'])\n",
    "clean_flux_err = masked_data['flux_err'] / np.mean(masked_data['flux_err'])\n",
    "#except time, don't normalize that\n",
    "clean_time = masked_data['time']\n",
    "\n",
    "\n",
    "#set up figure and axes for multiple plots\n",
    "f, (ax1,ax2) = plt.subplots(1,2,figsize=(12,5))\n",
    "#first plot\n",
    "ax1.scatter(clean_time, clean_flux,s=1)\n",
    "ax1.set_title('Cleaned LightCurve - Sector:{}'.format(sector))\n",
    "#named the graph with the sector: autofilled\n",
    "#second plot\n",
    "ax2.scatter(sectors[sector].time,sectors[sector].flux,s=1)\n",
    "ax2.set_title('Dirty LightCurve - Sector:{}'.format(sector));"
   ]
  },
  {
   "cell_type": "code",
   "execution_count": null,
   "metadata": {},
   "outputs": [],
   "source": [
    "#STEP FOUR \n",
    "#saving sector clean data\n",
    "sector = '11'\n",
    "\n",
    "#################################################################################\n",
    "#################################################################################\n",
    "\n",
    "\n",
    "#naming path\n",
    "pathname = 'cleaned_data/{}/'.format(star) #uses star id from the top of notebook\n",
    "os.makedirs(os.path.dirname(pathname), exist_ok=True) #checks if folder exists and makes if it doesnt\n",
    "\n",
    "#naming & saving clean data arrays\n",
    "np.save(pathname + 'time_{}'.format(sector),clean_time) \n",
    "np.save(pathname + 'flux_{}'.format(sector),clean_flux)\n",
    "np.save(pathname + 'fluxerr_{}'.format(sector),clean_flux_err)"
   ]
  },
  {
   "cell_type": "markdown",
   "metadata": {},
   "source": [
    "# Clean - Sector  2 -- NOTHING TO MASK EXAMPLE"
   ]
  },
  {
   "cell_type": "code",
   "execution_count": null,
   "metadata": {},
   "outputs": [],
   "source": [
    "# STEP ONE\n",
    "#useful when saving cleaned data later\n",
    "sector = '13' \n",
    "\n",
    "#this sector had nothing to mask\n",
    "\n",
    "#################################################################################\n",
    "#################################################################################\n",
    "\n",
    "#removing outliers\n",
    "lc = sectors[sector].remove_outliers()\n",
    "\n",
    "#creates dictionary of the 3 separate data arrays needed PER sector\n",
    "data = {'flux': lc.flux,'flux_err': lc.flux_err, 'time':lc.time} "
   ]
  },
  {
   "cell_type": "code",
   "execution_count": null,
   "metadata": {},
   "outputs": [],
   "source": [
    "# STEP TWO\n",
    "# Masking Cell SKIP b/c this sector has nothing to mask"
   ]
  },
  {
   "cell_type": "code",
   "execution_count": null,
   "metadata": {
    "scrolled": true
   },
   "outputs": [],
   "source": [
    "# STEP THREE\n",
    "#normalizing data & verifying mask works\n",
    "\n",
    "#################################################################################\n",
    "#################################################################################\n",
    "\n",
    "#normalizing\n",
    "clean_flux = data['flux'] / np.mean(data['flux'])\n",
    "clean_flux_err = data['flux_err'] / np.mean(data['flux_err'])\n",
    "#except time, don't normalize that\n",
    "clean_time = data['time']\n",
    "\n",
    "\n",
    "#set up figure and axes for multiple plots\n",
    "f, (ax1,ax2) = plt.subplots(1,2,figsize=(12,5))\n",
    "#first plot\n",
    "ax1.scatter(clean_time, clean_flux,s=1)\n",
    "ax1.set_title('Cleaned LightCurve - Sector:{}'.format(sector))\n",
    "#second plot\n",
    "ax2.scatter(sectors[sector].time,sectors[sector].flux,s=1)\n",
    "ax2.set_title('Dirty LightCurve - Sector:{}'.format(sector));"
   ]
  },
  {
   "cell_type": "code",
   "execution_count": null,
   "metadata": {},
   "outputs": [],
   "source": [
    "# STEP FOUR\n",
    "#saving sector clean data\n",
    "sector = '13'\n",
    "\n",
    "#################################################################################\n",
    "#################################################################################\n",
    "\n",
    "\n",
    "#naming path\n",
    "pathname = 'cleaned_data/{}/'.format(star) #uses star id from the top of notebook\n",
    "os.makedirs(os.path.dirname(pathname), exist_ok=True) #checks if folder exists and makes if it doesnt\n",
    "\n",
    "#naming & saving clean data arrays\n",
    "np.save(pathname + 'time_{}'.format(sector),clean_time) \n",
    "np.save(pathname + 'flux_{}'.format(sector),clean_flux)\n",
    "np.save(pathname + 'fluxerr_{}'.format(sector),clean_flux_err)"
   ]
  },
  {
   "cell_type": "markdown",
   "metadata": {},
   "source": [
    "# Clean - Sector 3"
   ]
  },
  {
   "cell_type": "code",
   "execution_count": null,
   "metadata": {},
   "outputs": [],
   "source": [
    "# STEP ONE\n",
    "#useful when saving cleaned data later\n",
    "sector = '3' \n",
    "\n",
    "\n",
    "#name these values\n",
    "#beginmask = 1400\n",
    "#endmask = 1400\n",
    "\n",
    "################################################################################\n",
    "################################################################################\n",
    "\n",
    "#finding bad bits to mask\n",
    "#sectors[sector].scatter()\n",
    "#plt.axvline(beginmask,color = 'r',linestyle = '--')\n",
    "#plt.axvline(endmask,color = 'b',linestyle='--')\n",
    "\n",
    "#removing outliers\n",
    "lc = sectors[sector].remove_outliers()\n",
    "\n",
    "#creates dictionary of the 3 separate data arrays needed PER sector\n",
    "data = {'flux': lc.flux,'flux_err': lc.flux_err, 'time':lc.time} "
   ]
  },
  {
   "cell_type": "code",
   "execution_count": null,
   "metadata": {},
   "outputs": [],
   "source": [
    "# STEP TWO\n",
    "# Masking Cell  \n",
    "#this cell is only needed if there are regions of bad bits to mask\n",
    "\n",
    "################################################################################\n",
    "################################################################################\n",
    "\n",
    "#create mask based on time array\n",
    "mask = (data['time'] > beginmask) & (data['time'] < endmask) #uses values from above\n",
    "\n",
    "#applying mask.....saved masked arrays in a dictionary\n",
    "masked_data = {'time': data['time'][~mask], 'flux': data['flux'][~mask], \\\n",
    "               'flux_err': data['flux_err'][~mask]}"
   ]
  },
  {
   "cell_type": "code",
   "execution_count": null,
   "metadata": {},
   "outputs": [],
   "source": [
    "# STEP THREE\n",
    "#normalizing data & verifying mask works\n",
    "\n",
    "#################################################################################\n",
    "#################################################################################\n",
    "\n",
    "#normalizing\n",
    "clean_flux = data['flux'] / np.mean(data['flux'])\n",
    "clean_flux_err = data['flux_err'] / np.mean(data['flux_err'])\n",
    "#except time, don't normalize that\n",
    "clean_time = data['time']\n",
    "\n",
    "\n",
    "#set up figure and axes for multiple plots\n",
    "f, (ax1,ax2) = plt.subplots(1,2,figsize=(12,5))\n",
    "#first plot\n",
    "ax1.scatter(clean_time, clean_flux,s=1)\n",
    "ax1.set_title('Cleaned LightCurve - Sector:{}'.format(sector))\n",
    "#second plot\n",
    "ax2.scatter(sectors[sector].time,sectors[sector].flux,s=1)\n",
    "ax2.set_title('Dirty LightCurve - Sector:{}'.format(sector));"
   ]
  },
  {
   "cell_type": "code",
   "execution_count": null,
   "metadata": {},
   "outputs": [],
   "source": [
    "# STEP FOUR\n",
    "#saving sector clean data\n",
    "sector = '3'\n",
    "\n",
    "#################################################################################\n",
    "#################################################################################\n",
    "\n",
    "\n",
    "#naming path\n",
    "pathname = 'cleaned_data/{}/'.format(star) #uses star id from the top of notebook\n",
    "print(pathname)\n",
    "os.makedirs(os.path.dirname(pathname), exist_ok=True) #checks if folder exists and makes if it doesnt\n",
    "\n",
    "#naming & saving clean data arrays\n",
    "np.save(pathname + 'time_{}'.format(sector),clean_time) \n",
    "np.save(pathname + 'flux_{}'.format(sector),clean_flux)\n",
    "np.save(pathname + 'fluxerr_{}'.format(sector),clean_flux_err)\n",
    "\n",
    "'cleaned_data/[176872276]/time_3.npy' ######"
   ]
  },
  {
   "cell_type": "markdown",
   "metadata": {},
   "source": [
    "# Clean - Sector 4 -- MASKING TWO REGIONS EXAMPLE"
   ]
  },
  {
   "cell_type": "code",
   "execution_count": null,
   "metadata": {},
   "outputs": [],
   "source": [
    "# STEP ONE\n",
    "#useful when saving cleaned data later\n",
    "sector = '13' \n",
    "\n",
    "\n",
    "#name these values\n",
    "beginmask = 1624.5\n",
    "endmask = 1626\n",
    "\n",
    "beginmask2 = 1639.9\n",
    "endmask2 = 1641.5\n",
    "\n",
    "#beginmask3 = 1436.5\n",
    "#endmask3 = 1437\n",
    "\n",
    "################################################################################\n",
    "################################################################################\n",
    "\n",
    "#finding bad bits to mask\n",
    "sectors[sector].scatter()\n",
    "#1st bad region\n",
    "plt.axvline(beginmask,color = 'r',linestyle = '--')\n",
    "plt.axvline(endmask,color = 'b',linestyle='--')\n",
    "#second bad region\n",
    "plt.axvline(beginmask2,color = 'r',linestyle = '--')\n",
    "plt.axvline(endmask2,color = 'b',linestyle='--')\n",
    "\n",
    "#plt.axvline(beginmask3,color = 'r',linestyle = '--')\n",
    "#plt.axvline(endmask3,color = 'b',linestyle='--')\n",
    "\n",
    "\n",
    "#removing outliers\n",
    "lc = sectors[sector].remove_outliers()\n",
    "\n",
    "#creates dictionary of the 3 separate data arrays needed PER sector\n",
    "data = {'flux': lc.flux,'flux_err': lc.flux_err, 'time':lc.time} "
   ]
  },
  {
   "cell_type": "code",
   "execution_count": null,
   "metadata": {},
   "outputs": [],
   "source": [
    "# STEP TWO\n",
    "# Masking Cell \n",
    "#this cell is only needed if there are regions of bad bits to mask\n",
    "\n",
    "################################################################################\n",
    "################################################################################\n",
    "\n",
    "#create 1st mask based on time array\n",
    "mask = (data['time'] > beginmask) & (data['time'] < endmask) #uses values from above\n",
    "#applying 1st mask and save masked arrays in a dictionary\n",
    "data2 = {'time': data['time'][~mask], 'flux': data['flux'][~mask], \\\n",
    "               'flux_err': data['flux_err'][~mask]}\n",
    "\n",
    "#create 2nd mask\n",
    "mask2 = (data2['time'] > beginmask2) & (data2['time'] < endmask2)\n",
    "#applying 2nd mask and save masked arrays in a dictionary\n",
    "masked_data = {'time': data2['time'][~mask2], 'flux': data2['flux'][~mask2], \\\n",
    "               'flux_err': data2['flux_err'][~mask2]}\n",
    "#change maske_data to data3 \n",
    "\n",
    "#mask3 = (data3['time'] > beginmask3) & (data3['time'] < endmask3)\n",
    "#masked_data = {'time': data3['time'][~mask3], 'flux': data3['flux'][~mask3], \\\n",
    "               #'flux_err': data3['flux_err'][~mask3]}\n",
    "\n",
    "\n"
   ]
  },
  {
   "cell_type": "code",
   "execution_count": null,
   "metadata": {},
   "outputs": [],
   "source": [
    "# STEP THREE\n",
    "#normalizing data & verifying mask works\n",
    "\n",
    "#################################################################################\n",
    "#################################################################################\n",
    "\n",
    "#normalizing\n",
    "clean_flux = masked_data['flux'] / np.mean(masked_data['flux'])\n",
    "clean_flux_err = masked_data['flux_err'] / np.mean(masked_data['flux_err'])\n",
    "#except time, don't normalize that\n",
    "clean_time = masked_data['time']\n",
    "\n",
    "\n",
    "#set up figure and axes for multiple plots\n",
    "f, (ax1,ax2) = plt.subplots(1,2,figsize=(12,5))\n",
    "#first plot\n",
    "ax1.scatter(clean_time, clean_flux,s=1)\n",
    "ax1.set_title('Cleaned LightCurve - Sector:{}'.format(sector))\n",
    "#second plot\n",
    "ax2.scatter(sectors[sector].time,sectors[sector].flux,s=1)\n",
    "ax2.set_title('Dirty LightCurve - Sector:{}'.format(sector));"
   ]
  },
  {
   "cell_type": "code",
   "execution_count": null,
   "metadata": {},
   "outputs": [],
   "source": [
    "# STEP FOUR\n",
    "#saving sector clean data\n",
    "sector = '13'\n",
    "\n",
    "#################################################################################\n",
    "#################################################################################\n",
    "\n",
    "\n",
    "#naming path\n",
    "pathname = 'cleaned_data/{}/'.format(star) #uses star id from the top of notebook\n",
    "os.makedirs(os.path.dirname(pathname), exist_ok=True) #checks if folder exists and makes if it doesnt\n",
    "\n",
    "#naming & saving clean data arrays\n",
    "np.save(pathname + 'time_{}'.format(sector),clean_time) \n",
    "np.save(pathname + 'flux_{}'.format(sector),clean_flux)\n",
    "np.save(pathname + 'fluxerr_{}'.format(sector),clean_flux_err)"
   ]
  },
  {
   "cell_type": "markdown",
   "metadata": {},
   "source": [
    "# Clean - Sector 5 --- EXCEPT THERE IS NO DATA FOR SECTOR 5 SO SKIP!!"
   ]
  },
  {
   "cell_type": "markdown",
   "metadata": {},
   "source": [
    "# Clean - Sector 6"
   ]
  },
  {
   "cell_type": "code",
   "execution_count": null,
   "metadata": {},
   "outputs": [],
   "source": [
    "# STEP ONE\n",
    "#useful when saving cleaned data later\n",
    "sector = '6' \n",
    "\n",
    "\n",
    "#name these values\n",
    "\n",
    "\n",
    "################################################################################\n",
    "################################################################################\n",
    "\n",
    "#finding bad bits to mask\n",
    "\n",
    "\n",
    "\n",
    "#removing outliers\n",
    "lc = sectors[sector].remove_outliers()\n",
    "\n",
    "#creates dictionary of the 3 separate data arrays needed PER sector\n",
    "data = {'flux': lc.flux,'flux_err': lc.flux_err, 'time':lc.time} "
   ]
  },
  {
   "cell_type": "code",
   "execution_count": null,
   "metadata": {},
   "outputs": [],
   "source": [
    "# STEP TWO\n",
    "# Masking Cell  \n",
    "#this cell is only needed if there are regions of bad bits to mask\n",
    "\n",
    "################################################################################\n",
    "################################################################################\n",
    "\n",
    "#create mask based on time array\n",
    "mask = (data['time'] > beginmask) & (data['time'] < endmask) #uses values from above\n",
    "\n",
    "#applying mask.....saved masked arrays in a dictionary\n",
    "masked_data = {'time': data['time'][~mask], 'flux': data['flux'][~mask], \\\n",
    "               'flux_err': data['flux_err'][~mask]}"
   ]
  },
  {
   "cell_type": "code",
   "execution_count": null,
   "metadata": {},
   "outputs": [],
   "source": [
    "# STEP THREE\n",
    "#normalizing data & verifying mask works\n",
    "\n",
    "#################################################################################\n",
    "#################################################################################\n",
    "\n",
    "#normalizing\n",
    "clean_flux = data['flux'] / np.mean(data['flux'])\n",
    "clean_flux_err = data['flux_err'] / np.mean(data['flux_err'])\n",
    "#except time, don't normalize that\n",
    "clean_time = data['time']\n",
    "\n",
    "\n",
    "#set up figure and axes for multiple plots\n",
    "f, (ax1,ax2) = plt.subplots(1,2,figsize=(12,5))\n",
    "#first plot\n",
    "ax1.scatter(clean_time, clean_flux,s=1)\n",
    "ax1.set_title('Cleaned LightCurve - Sector:{}'.format(sector))\n",
    "#second plot\n",
    "ax2.scatter(sectors[sector].time,sectors[sector].flux,s=1)\n",
    "ax2.set_title('Dirty LightCurve - Sector:{}'.format(sector));"
   ]
  },
  {
   "cell_type": "code",
   "execution_count": null,
   "metadata": {},
   "outputs": [],
   "source": [
    "# STEP FOUR\n",
    "#saving sector clean data\n",
    "sector = '6'\n",
    "\n",
    "#################################################################################\n",
    "#################################################################################\n",
    "\n",
    "\n",
    "#naming path\n",
    "pathname = 'cleaned_data/{}/'.format(star) #uses star id from the top of notebook\n",
    "os.makedirs(os.path.dirname(pathname), exist_ok=True) #checks if folder exists and makes if it doesnt\n",
    "\n",
    "#naming & saving clean data arrays\n",
    "np.save(pathname + 'time_{}'.format(sector),clean_time) \n",
    "np.save(pathname + 'flux_{}'.format(sector),clean_flux)\n",
    "np.save(pathname + 'fluxerr_{}'.format(sector),clean_flux_err)"
   ]
  },
  {
   "cell_type": "markdown",
   "metadata": {},
   "source": [
    "# Clean - Sector 7 -- Nothing to mask example"
   ]
  },
  {
   "cell_type": "code",
   "execution_count": null,
   "metadata": {},
   "outputs": [],
   "source": [
    "# STEP ONE\n",
    "#useful when saving cleaned data later\n",
    "sector = '7' \n",
    "\n",
    "#this sector had nothing to mask\n",
    "\n",
    "################################################################################\n",
    "################################################################################\n",
    "\n",
    "\n",
    "#removing outliers\n",
    "lc = sectors[sector].remove_outliers()\n",
    "\n",
    "#creates dictionary of the 3 separate data arrays needed PER sector\n",
    "data = {'flux': lc.flux,'flux_err': lc.flux_err, 'time':lc.time} "
   ]
  },
  {
   "cell_type": "code",
   "execution_count": null,
   "metadata": {},
   "outputs": [],
   "source": [
    "# STEP TWO\n",
    "mask = (data['time'] > beginmask) & (data['time'] < endmask) #uses values from above\n",
    "\n",
    "\n",
    "masked_data = {'time': data['time'][~mask], 'flux': data['flux'][~mask], \\\n",
    "               'flux_err': data['flux_err'][~mask]}"
   ]
  },
  {
   "cell_type": "code",
   "execution_count": null,
   "metadata": {},
   "outputs": [],
   "source": [
    "# STEP THREE\n",
    "#normalizing data & verifying mask works\n",
    "\n",
    "#################################################################################\n",
    "#################################################################################\n",
    "\n",
    "#normalizing\n",
    "clean_flux = data['flux'] / np.mean(data['flux'])\n",
    "clean_flux_err = data['flux_err'] / np.mean(data['flux_err'])\n",
    "#except time, don't normalize that\n",
    "clean_time = data['time']\n",
    "\n",
    "\n",
    "#set up figure and axes for multiple plots\n",
    "f, (ax1,ax2) = plt.subplots(1,2,figsize=(12,5))\n",
    "#first plot\n",
    "ax1.scatter(clean_time, clean_flux,s=1)\n",
    "ax1.set_title('Cleaned LightCurve - Sector:{}'.format(sector))\n",
    "#second plot\n",
    "ax2.scatter(sectors[sector].time,sectors[sector].flux,s=1)\n",
    "ax2.set_title('Dirty LightCurve - Sector:{}'.format(sector));"
   ]
  },
  {
   "cell_type": "code",
   "execution_count": null,
   "metadata": {},
   "outputs": [],
   "source": [
    "# STEP FOUR\n",
    "#saving sector clean data\n",
    "sector = '7'\n",
    "\n",
    "#################################################################################\n",
    "#################################################################################\n",
    "\n",
    "\n",
    "#naming path\n",
    "pathname = 'cleaned_data/{}/'.format(star) #uses star id from the top of notebook\n",
    "os.makedirs(os.path.dirname(pathname), exist_ok=True) #checks if folder exists and makes if it doesnt\n",
    "\n",
    "#naming & saving clean data arrays\n",
    "np.save(pathname + 'time_{}'.format(sector),clean_time) \n",
    "np.save(pathname + 'flux_{}'.format(sector),clean_flux)\n",
    "np.save(pathname + 'fluxerr_{}'.format(sector),clean_flux_err)"
   ]
  },
  {
   "cell_type": "markdown",
   "metadata": {},
   "source": [
    "# Clean - Sector 8"
   ]
  },
  {
   "cell_type": "code",
   "execution_count": null,
   "metadata": {},
   "outputs": [],
   "source": [
    "# STEP ONE\n",
    "#useful when saving cleaned data later\n",
    "sector = '8' \n",
    "\n",
    "\n",
    "#name these values\n",
    "#no mask?\n",
    "\n",
    "################################################################################\n",
    "################################################################################\n",
    "\n",
    "#finding bad bits to mask\n",
    "beginmask = 1517.3\n",
    "endmask = 1518\n",
    "sectors[sector].scatter()\n",
    "plt.axvline(beginmask,color = 'r',linestyle = '--')\n",
    "plt.axvline(endmask,color = 'b',linestyle='--')\n",
    "\n",
    "\n",
    "\n",
    "#removing outliers\n",
    "lc = sectors[sector].remove_outliers()\n",
    "\n",
    "#creates dictionary of the 3 separate data arrays needed PER sector\n",
    "data = {'flux': lc.flux,'flux_err': lc.flux_err, 'time':lc.time} "
   ]
  },
  {
   "cell_type": "code",
   "execution_count": null,
   "metadata": {},
   "outputs": [],
   "source": [
    "# STEP TWO\n",
    "# Masking Cell \n",
    "#this cell is only needed if there are regions of bad bits to mask\n",
    "\n",
    "################################################################################\n",
    "################################################################################\n",
    "\n",
    "mask = (data['time'] > beginmask) & (data['time'] < endmask) #uses values from above\n",
    "\n",
    "\n",
    "masked_data = {'time': data['time'][~mask], 'flux': data['flux'][~mask], \\\n",
    "               'flux_err': data['flux_err'][~mask]}"
   ]
  },
  {
   "cell_type": "code",
   "execution_count": null,
   "metadata": {},
   "outputs": [],
   "source": [
    "# STEP THREE\n",
    "#normalizing data & verifying mask works\n",
    "\n",
    "#################################################################################\n",
    "#################################################################################\n",
    "\n",
    "#normalizing\n",
    "clean_flux = masked_data['flux'] / np.mean(masked_data['flux'])\n",
    "clean_flux_err = masked_data['flux_err'] / np.mean(masked_data['flux_err'])\n",
    "#except time, don't normalize that\n",
    "clean_time = masked_data['time']\n",
    "\n",
    "\n",
    "#set up figure and axes for multiple plots\n",
    "f, (ax1,ax2) = plt.subplots(1,2,figsize=(12,5))\n",
    "#first plot\n",
    "ax1.scatter(clean_time, clean_flux,s=1)\n",
    "ax1.set_title('Cleaned LightCurve - Sector:{}'.format(sector))\n",
    "#second plot\n",
    "ax2.scatter(sectors[sector].time,sectors[sector].flux,s=1)\n",
    "ax2.set_title('Dirty LightCurve - Sector:{}'.format(sector));"
   ]
  },
  {
   "cell_type": "code",
   "execution_count": null,
   "metadata": {},
   "outputs": [],
   "source": [
    "# STEP FOUR\n",
    "#saving sector clean data\n",
    "sector = '8'\n",
    "\n",
    "#################################################################################\n",
    "#################################################################################\n",
    "\n",
    "\n",
    "#naming path\n",
    "pathname = 'cleaned_data/{}/'.format(star) #uses star id from the top of notebook\n",
    "os.makedirs(os.path.dirname(pathname), exist_ok=True) #checks if folder exists and makes if it doesnt\n",
    "\n",
    "#naming & saving clean data arrays\n",
    "np.save(pathname + 'time_{}'.format(sector),clean_time) \n",
    "np.save(pathname + 'flux_{}'.format(sector),clean_flux)\n",
    "np.save(pathname + 'fluxerr_{}'.format(sector),clean_flux_err)"
   ]
  },
  {
   "cell_type": "markdown",
   "metadata": {},
   "source": [
    "# Clean - Sector 9 -- Nothing to mask example"
   ]
  },
  {
   "cell_type": "code",
   "execution_count": null,
   "metadata": {},
   "outputs": [],
   "source": [
    "# STEP ONE\n",
    "#useful when saving cleaned data later\n",
    "sector = '9' \n",
    "\n",
    "\n",
    "#this sector had nothing to mask\n",
    "################################################################################\n",
    "################################################################################\n",
    "\n",
    "\n",
    "#removing outliers\n",
    "lc = sectors[sector].remove_outliers()\n",
    "\n",
    "#creates dictionary of the 3 separate data arrays needed PER sector\n",
    "data = {'flux': lc.flux,'flux_err': lc.flux_err, 'time':lc.time} "
   ]
  },
  {
   "cell_type": "code",
   "execution_count": null,
   "metadata": {},
   "outputs": [],
   "source": [
    "# STEP TWO\n",
    "# Masking Cell SKIP b/c this sector has nothing to mask\n",
    "\n",
    "mask = (data['time'] > beginmask) & (data['time'] < endmask) #uses values from above\n",
    "\n",
    "\n",
    "masked_data = {'time': data['time'][~mask], 'flux': data['flux'][~mask], \\\n",
    "               'flux_err': data['flux_err'][~mask]}"
   ]
  },
  {
   "cell_type": "code",
   "execution_count": null,
   "metadata": {},
   "outputs": [],
   "source": [
    "# STEP THREE\n",
    "#normalizing data & verifying mask works\n",
    "\n",
    "#################################################################################\n",
    "#################################################################################\n",
    "\n",
    "#normalizing\n",
    "clean_flux = data['flux'] / np.mean(data['flux'])\n",
    "clean_flux_err = data['flux_err'] / np.mean(data['flux_err'])\n",
    "#except time, don't normalize that\n",
    "clean_time = data['time']\n",
    "\n",
    "\n",
    "#set up figure and axes for multiple plots\n",
    "f, (ax1,ax2) = plt.subplots(1,2,figsize=(12,5))\n",
    "#first plot\n",
    "ax1.scatter(clean_time, clean_flux,s=1)\n",
    "ax1.set_title('Cleaned LightCurve - Sector:{}'.format(sector))\n",
    "#second plot\n",
    "ax2.scatter(sectors[sector].time,sectors[sector].flux,s=1)\n",
    "ax2.set_title('Dirty LightCurve - Sector:{}'.format(sector));"
   ]
  },
  {
   "cell_type": "code",
   "execution_count": null,
   "metadata": {},
   "outputs": [],
   "source": [
    "# STEP FOUR\n",
    "#saving sector clean data\n",
    "sector = '9'\n",
    "\n",
    "#################################################################################\n",
    "#################################################################################\n",
    "\n",
    "\n",
    "#naming path\n",
    "pathname = 'cleaned_data/{}/'.format(star) #uses star id from the top of notebook\n",
    "os.makedirs(os.path.dirname(pathname), exist_ok=True) #checks if folder exists and makes if it doesnt\n",
    "\n",
    "#naming & saving clean data arrays\n",
    "np.save(pathname + 'time_{}'.format(sector),clean_time) \n",
    "np.save(pathname + 'flux_{}'.format(sector),clean_flux)\n",
    "np.save(pathname + 'fluxerr_{}'.format(sector),clean_flux_err)"
   ]
  },
  {
   "cell_type": "markdown",
   "metadata": {},
   "source": [
    "# Clean - Sector 10 -- nothing to mask example"
   ]
  },
  {
   "cell_type": "code",
   "execution_count": null,
   "metadata": {},
   "outputs": [],
   "source": [
    "# STEP ONE\n",
    "#useful when saving cleaned data later\n",
    "sector = '10' \n",
    "\n",
    "#this sector had nothing to mask\n",
    "################################################################################\n",
    "################################################################################\n",
    "\n",
    "\n",
    "#removing outliers\n",
    "lc = sectors[sector].remove_outliers()\n",
    "\n",
    "#creates dictionary of the 3 separate data arrays needed PER sector\n",
    "data = {'flux': lc.flux,'flux_err': lc.flux_err, 'time':lc.time} "
   ]
  },
  {
   "cell_type": "code",
   "execution_count": null,
   "metadata": {},
   "outputs": [],
   "source": [
    "# STEP TWO\n",
    "# Masking Cell SKIP b/c this sector has nothing to mask"
   ]
  },
  {
   "cell_type": "code",
   "execution_count": null,
   "metadata": {},
   "outputs": [],
   "source": [
    "# STEP THREE\n",
    "#normalizing data & verifying mask works\n",
    "\n",
    "#################################################################################\n",
    "#################################################################################\n",
    "\n",
    "#normalizing\n",
    "clean_flux = data['flux'] / np.mean(data['flux'])\n",
    "clean_flux_err = data['flux_err'] / np.mean(data['flux_err'])\n",
    "#except time, don't normalize that\n",
    "clean_time = data['time']\n",
    "\n",
    "\n",
    "#set up figure and axes for multiple plots\n",
    "f, (ax1,ax2) = plt.subplots(1,2,figsize=(12,5))\n",
    "#first plot\n",
    "ax1.scatter(clean_time, clean_flux,s=1)\n",
    "ax1.set_title('Cleaned LightCurve - Sector:{}'.format(sector))\n",
    "#second plot\n",
    "ax2.scatter(sectors[sector].time,sectors[sector].flux,s=1)\n",
    "ax2.set_title('Dirty LightCurve - Sector:{}'.format(sector));"
   ]
  },
  {
   "cell_type": "code",
   "execution_count": null,
   "metadata": {},
   "outputs": [],
   "source": [
    "# STEP FOUR\n",
    "#saving sector clean data\n",
    "sector = '10'\n",
    "\n",
    "#################################################################################\n",
    "#################################################################################\n",
    "\n",
    "\n",
    "#naming path\n",
    "pathname = 'cleaned_data/{}/'.format(star) #uses star id from the top of notebook\n",
    "os.makedirs(os.path.dirname(pathname), exist_ok=True) #checks if folder exists and makes if it doesnt\n",
    "\n",
    "#naming & saving clean data arrays\n",
    "np.save(pathname + 'time_{}'.format(sector),clean_time) \n",
    "np.save(pathname + 'flux_{}'.format(sector),clean_flux)\n",
    "np.save(pathname + 'fluxerr_{}'.format(sector),clean_flux_err)"
   ]
  },
  {
   "cell_type": "markdown",
   "metadata": {},
   "source": [
    "# Clean - Sector 11"
   ]
  },
  {
   "cell_type": "code",
   "execution_count": null,
   "metadata": {},
   "outputs": [],
   "source": [
    "# STEP ONE\n",
    "#useful when saving cleaned data later\n",
    "sector = '11' \n",
    "\n",
    "\n",
    "#name these values\n",
    "\n",
    "\n",
    "################################################################################\n",
    "################################################################################\n",
    "\n",
    "#finding bad bits to mask\n",
    "\n",
    "\n",
    "\n",
    "#removing outliers\n",
    "lc = sectors[sector].remove_outliers()\n",
    "\n",
    "#creates dictionary of the 3 separate data arrays needed PER sector\n",
    "data = {'flux': lc.flux,'flux_err': lc.flux_err, 'time':lc.time} "
   ]
  },
  {
   "cell_type": "code",
   "execution_count": null,
   "metadata": {},
   "outputs": [],
   "source": [
    "# STEP TWO\n",
    "# Masking Cell  \n",
    "#this cell is only needed if there are regions of bad bits to mask\n",
    "\n",
    "################################################################################\n",
    "################################################################################\n"
   ]
  },
  {
   "cell_type": "code",
   "execution_count": null,
   "metadata": {},
   "outputs": [],
   "source": [
    "# STEP THREE\n",
    "#normalizing data & verifying mask works\n",
    "\n",
    "#################################################################################\n",
    "#################################################################################\n",
    "\n",
    "#normalizing\n",
    "clean_flux = data['flux'] / np.mean(data['flux'])\n",
    "clean_flux_err = data['flux_err'] / np.mean(data['flux_err'])\n",
    "#except time, don't normalize that\n",
    "clean_time = data['time']\n",
    "\n",
    "\n",
    "#set up figure and axes for multiple plots\n",
    "f, (ax1,ax2) = plt.subplots(1,2,figsize=(12,5))\n",
    "#first plot\n",
    "ax1.scatter(clean_time, clean_flux,s=1)\n",
    "ax1.set_title('Cleaned LightCurve - Sector:{}'.format(sector))\n",
    "#second plot\n",
    "ax2.scatter(sectors[sector].time,sectors[sector].flux,s=1)\n",
    "ax2.set_title('Dirty LightCurve - Sector:{}'.format(sector));"
   ]
  },
  {
   "cell_type": "code",
   "execution_count": null,
   "metadata": {},
   "outputs": [],
   "source": [
    "# STEP FOUR\n",
    "#saving sector clean data\n",
    "sector = '11'\n",
    "\n",
    "#################################################################################\n",
    "#################################################################################\n",
    "\n",
    "\n",
    "#naming path\n",
    "pathname = 'cleaned_data/{}/'.format(star) #uses star id from the top of notebook\n",
    "os.makedirs(os.path.dirname(pathname), exist_ok=True) #checks if folder exists and makes if it doesnt\n",
    "\n",
    "#naming & saving clean data arrays\n",
    "np.save(pathname + 'time_{}'.format(sector),clean_time) \n",
    "np.save(pathname + 'flux_{}'.format(sector),clean_flux)\n",
    "np.save(pathname + 'fluxerr_{}'.format(sector),clean_flux_err)"
   ]
  },
  {
   "cell_type": "markdown",
   "metadata": {},
   "source": [
    "# Clean - Sector 12"
   ]
  },
  {
   "cell_type": "code",
   "execution_count": null,
   "metadata": {},
   "outputs": [],
   "source": [
    "# STEP ONE\n",
    "#useful when saving cleaned data later\n",
    "sector = '12' \n",
    "\n",
    "\n",
    "#name these values\n",
    "\n",
    "\n",
    "################################################################################\n",
    "################################################################################\n",
    "\n",
    "#finding bad bits to mask\n",
    "beginmask = 1600\n",
    "endmask = 1600\n",
    "sectors[sector].scatter()\n",
    "plt.axvline(beginmask,color = 'r',linestyle = '--')\n",
    "plt.axvline(endmask,color = 'b',linestyle='--')\n",
    "#removing outliers\n",
    "lc = sectors[sector].remove_outliers()\n",
    "\n",
    "#creates dictionary of the 3 separate data arrays needed PER sector\n",
    "data = {'flux': lc.flux,'flux_err': lc.flux_err, 'time':lc.time} "
   ]
  },
  {
   "cell_type": "code",
   "execution_count": null,
   "metadata": {},
   "outputs": [],
   "source": [
    "# STEP TWO\n",
    "# Masking Cell \n",
    "#this cell is only needed if there are regions of bad bits to mask\n",
    "\n",
    "################################################################################\n"
   ]
  },
  {
   "cell_type": "code",
   "execution_count": null,
   "metadata": {},
   "outputs": [],
   "source": [
    "# STEP THREE\n",
    "#normalizing data & verifying mask works\n",
    "\n",
    "#################################################################################\n",
    "#################################################################################\n",
    "\n",
    "#normalizing\n",
    "clean_flux = data['flux'] / np.mean(data['flux'])\n",
    "clean_flux_err = data['flux_err'] / np.mean(data['flux_err'])\n",
    "clean_time = data['time']\n",
    "\n",
    "\n",
    "#set up figure and axes for multiple plots\n",
    "f, (ax1,ax2) = plt.subplots(1,2,figsize=(12,5))\n",
    "#first plot\n",
    "ax1.scatter(clean_time, clean_flux,s=1)\n",
    "ax1.set_title('Cleaned LightCurve - Sector:{}'.format(sector))\n",
    "#second plot\n",
    "ax2.scatter(sectors[sector].time,sectors[sector].flux,s=1)\n",
    "ax2.set_title('Dirty LightCurve - Sector:{}'.format(sector));"
   ]
  },
  {
   "cell_type": "code",
   "execution_count": null,
   "metadata": {},
   "outputs": [],
   "source": [
    "# STEP FOUR\n",
    "#saving sector clean data\n",
    "sector = '12'\n",
    "\n",
    "#################################################################################\n",
    "#################################################################################\n",
    "\n",
    "\n",
    "#naming path\n",
    "pathname = 'cleaned_data/{}/'.format(star) #uses star id from the top of notebook\n",
    "os.makedirs(os.path.dirname(pathname), exist_ok=True) #checks if folder exists and makes if it doesnt\n",
    "\n",
    "#naming & saving clean data arrays\n",
    "np.save(pathname + 'time_{}'.format(sector),clean_time) \n",
    "np.save(pathname + 'flux_{}'.format(sector),clean_flux)\n",
    "np.save(pathname + 'fluxerr_{}'.format(sector),clean_flux_err)"
   ]
  },
  {
   "cell_type": "markdown",
   "metadata": {},
   "source": [
    "# Clean - Sector 13 -- nothing to mask example"
   ]
  },
  {
   "cell_type": "code",
   "execution_count": null,
   "metadata": {},
   "outputs": [],
   "source": [
    "# STEP ONE\n",
    "#useful when saving cleaned data later\n",
    "sector = '13'\n",
    "\n",
    "\n",
    "#nothing to mask here\n",
    "################################################################################\n",
    "################################################################################\n",
    "\n",
    "#removing outliers\n",
    "lc = sectors[sector].remove_outliers()\n",
    "\n",
    "#creates dictionary of the 3 separate data arrays needed PER sector\n",
    "data = {'flux': lc.flux,'flux_err': lc.flux_err, 'time':lc.time} "
   ]
  },
  {
   "cell_type": "code",
   "execution_count": null,
   "metadata": {},
   "outputs": [],
   "source": [
    "# STEP TWO\n",
    "# Masking Cell "
   ]
  },
  {
   "cell_type": "code",
   "execution_count": null,
   "metadata": {},
   "outputs": [],
   "source": [
    "# STEP THREE\n",
    "#normalizing data & verifying mask works\n",
    "\n",
    "#################################################################################\n",
    "#################################################################################\n",
    "\n",
    "#normalizing\n",
    "clean_flux = data['flux'] / np.mean(data['flux'])\n",
    "clean_flux_err = data['flux_err'] / np.mean(data['flux_err'])\n",
    "#except time, don't normalize that\n",
    "clean_time = data['time']\n",
    "\n",
    "\n",
    "#set up figure and axes for multiple plots\n",
    "f, (ax1,ax2) = plt.subplots(1,2,figsize=(12,5))\n",
    "#first plot\n",
    "ax1.scatter(clean_time, clean_flux,s=1)\n",
    "ax1.set_title('Cleaned LightCurve - Sector:{}'.format(sector))\n",
    "#second plot\n",
    "ax2.scatter(sectors[sector].time,sectors[sector].flux,s=1)\n",
    "ax2.set_title('Dirty LightCurve - Sector:{}'.format(sector));"
   ]
  },
  {
   "cell_type": "code",
   "execution_count": null,
   "metadata": {},
   "outputs": [],
   "source": [
    "# STEP FOUR\n",
    "#saving sector clean data\n",
    "sector = '13'\n",
    "\n",
    "#################################################################################\n",
    "#################################################################################\n",
    "\n",
    "\n",
    "#naming path\n",
    "pathname = 'cleaned_data/{}/'.format(star) #uses star id from the top of notebook\n",
    "os.makedirs(os.path.dirname(pathname), exist_ok=True) #checks if folder exists and makes if it doesnt\n",
    "\n",
    "#naming & saving clean data arrays\n",
    "np.save(pathname + 'time_{}'.format(sector),clean_time) \n",
    "np.save(pathname + 'flux_{}'.format(sector),clean_flux)\n",
    "np.save(pathname + 'fluxerr_{}'.format(sector),clean_flux_err)"
   ]
  },
  {
   "cell_type": "code",
   "execution_count": null,
   "metadata": {},
   "outputs": [],
   "source": [
    "sector = '13' \n",
    "\n",
    "\n",
    "#name these values\n",
    "\n",
    "\n",
    "################################################################################\n",
    "################################################################################\n",
    "\n",
    "#finding bad bits to mask\n",
    "\n",
    "\n",
    "#removing outliers\n",
    "lc = sectors[sector].remove_outliers()\n",
    "\n",
    "#creates dictionary of the 3 separate data arrays needed PER sector\n",
    "data = {'flux': lc.flux,'flux_err': lc.flux_err, 'time':lc.time} "
   ]
  },
  {
   "cell_type": "code",
   "execution_count": null,
   "metadata": {},
   "outputs": [],
   "source": [
    "clean_flux = data['flux'] / np.mean(data['flux'])\n",
    "clean_flux_err = data['flux_err'] / np.mean(data['flux_err'])\n",
    "#except time, don't normalize that\n",
    "clean_time = data['time']\n",
    "\n",
    "\n",
    "#set up figure and axes for multiple plots\n",
    "f, (ax1,ax2) = plt.subplots(1,2,figsize=(12,5))\n",
    "#first plot\n",
    "ax1.scatter(clean_time, clean_flux,s=1)\n",
    "ax1.set_title('Cleaned LightCurve - Sector:{}'.format(sector))\n",
    "#second plot\n",
    "ax2.scatter(sectors[sector].time,sectors[sector].flux,s=1)\n",
    "ax2.set_title('Dirty LightCurve - Sector:{}'.format(sector));"
   ]
  },
  {
   "cell_type": "code",
   "execution_count": null,
   "metadata": {},
   "outputs": [],
   "source": [
    "sector = '13'\n",
    "\n",
    "#################################################################################\n",
    "#################################################################################\n",
    "\n",
    "\n",
    "#naming path\n",
    "pathname = 'cleaned_data/{}/'.format(star) #uses star id from the top of notebook\n",
    "os.makedirs(os.path.dirname(pathname), exist_ok=True) #checks if folder exists and makes if it doesnt\n",
    "\n",
    "#naming & saving clean data arrays\n",
    "np.save(pathname + 'time_{}'.format(sector),clean_time) \n",
    "np.save(pathname + 'flux_{}'.format(sector),clean_flux)\n",
    "np.save(pathname + 'fluxerr_{}'.format(sector),clean_flux_err)"
   ]
  },
  {
   "cell_type": "markdown",
   "metadata": {},
   "source": [
    "# Stitch together all Sectors to get one long lightcurve"
   ]
  },
  {
   "cell_type": "code",
   "execution_count": null,
   "metadata": {},
   "outputs": [],
   "source": [
    "#open saved cleaned arrays by sector & save to one dataset per star\n",
    "\n",
    "\n",
    "#################################################################################\n",
    "#################################################################################\n",
    "\n",
    "#to sort sector order so stitching is in correct time order\n",
    "sector_list = np.sort(mytable['sector']) \n",
    "\n",
    "#opens all saved files\n",
    "flux_list =[]\n",
    "fluxerr_list = []\n",
    "time_list = []\n",
    "#sanity check\n",
    "for i in sector_list: \n",
    "    print('verify you want Star with TIC:',star,'from sector:',i)\n",
    "    #opens saved cleaned data\n",
    "    time = np.load('cleaned_data/{}/time_{}.npy'.format(star,i))\n",
    "    flux = np.load('cleaned_data/{}/flux_{}.npy'.format(star,i))\n",
    "    fluxerr = np.load('cleaned_data/{}/fluxerr_{}.npy'.format(star,i))\n",
    "    #collects/stitches cleaned data arrays from all sectors into a list\n",
    "    time_list.append(time)\n",
    "    flux_list.append(flux)\n",
    "    fluxerr_list.append(fluxerr)\n",
    "    \n",
    "#to flatten those lists of arrays into one array (per data type-flux,time,fluxerr)\n",
    "#concatenate takes a group of a bunch of arrays and appends them\n",
    "final_flux = np.concatenate(flux_list) \n",
    "final_fluxerr = np.concatenate(fluxerr_list)\n",
    "final_time = np.concatenate(time_list)\n",
    "\n",
    "print(time_list)"
   ]
  },
  {
   "cell_type": "code",
   "execution_count": null,
   "metadata": {},
   "outputs": [],
   "source": []
  },
  {
   "cell_type": "code",
   "execution_count": null,
   "metadata": {},
   "outputs": [],
   "source": [
    "# collects the last time value from each sector for plotting below\n",
    "\n",
    "#################################################################################\n",
    "#################################################################################\n",
    "#sanity check:highest value in each time array\n",
    "edges=[]\n",
    "for i in time_list:\n",
    "    maxes = np.max(i)\n",
    "    edges.append(maxes)\n",
    "edges"
   ]
  },
  {
   "cell_type": "code",
   "execution_count": null,
   "metadata": {},
   "outputs": [],
   "source": [
    "# plotting and verifying looks good\n",
    "\n",
    "#################################################################################\n",
    "#################################################################################\n",
    "#every red line represents eand of sector\n",
    "#plot cleaned stitched lightcurve\n",
    "plt.figure(figsize = (12,5))\n",
    "plt.scatter(final_time,final_flux,s=1)\n",
    "plt.title('Cleaned Stitched LightCurve for TIC:{}'.format(mytable['star_id'][0]));\n",
    "\n",
    "#plot ends of each sector to verify stitched all available! \n",
    "for i in edges:\n",
    "    plt.axvline(i,linestyle='--',c='r')"
   ]
  },
  {
   "cell_type": "code",
   "execution_count": null,
   "metadata": {},
   "outputs": [],
   "source": [
    "# final plot and saving arrays\n",
    "\n",
    "#################################################################################\n",
    "#################################################################################\n",
    "\n",
    "#plot cleaned stitched lightcurve\n",
    "plt.figure(figsize = (12,5))\n",
    "plt.scatter(final_time,final_flux,s=1)\n",
    "plt.ylabel('Normalized Flux',size=20)\n",
    "plt.xlabel('Time',size=20)\n",
    "plt.title('Cleaned Stitched LightCurve for Star#{}'.format(mytable['star_id'][0]),fontsize=15);\n",
    "#plt.savefig('mid-year_pres-stitchedLC')\n",
    "\n",
    "\n",
    "\n",
    "#saving cleaned-stitched data\n",
    "\n",
    "#naming path\n",
    "pathname = 'stitched_data/{}/'.format(star) #uses star id from the top of notebook\n",
    "os.makedirs(os.path.dirname(pathname), exist_ok=True) #checks if folder exists and makes if it doesnt\n",
    "#naming & saving clean data arrays\n",
    "np.save(pathname + 'time',final_time) \n",
    "np.save(pathname + 'flux',final_flux)\n",
    "np.save(pathname + 'fluxerr',final_fluxerr)"
   ]
  },
  {
   "cell_type": "markdown",
   "metadata": {},
   "source": [
    "# Extra"
   ]
  },
  {
   "cell_type": "code",
   "execution_count": null,
   "metadata": {},
   "outputs": [],
   "source": [
    "newtable = mytable[mytable['sector'] != 2]\n",
    "newtable2 = newtable[newtable['sector'] != 3]\n",
    "\n",
    "newtable2"
   ]
  },
  {
   "cell_type": "code",
   "execution_count": null,
   "metadata": {},
   "outputs": [],
   "source": [
    "#open saved cleaned arrays by sector & save to one dataset per star\n",
    "\n",
    "\n",
    "#################################################################################\n",
    "#################################################################################\n",
    "\n",
    "#to sort sector order so stitching is in correct time order\n",
    "sector_list = np.sort(newtable2['sector']) \n",
    "\n",
    "\n",
    "#opens all saved files\n",
    "flux_list =[]\n",
    "fluxerr_list = []\n",
    "time_list = []\n",
    "#sanity check\n",
    "for i in sector_list: \n",
    "    print('verify you want Star with TIC:',star,'from sector:',i)\n",
    "    #opens saved cleaned data\n",
    "    time = np.load('cleaned_data/{}/time_{}.npy'.format(star,i))\n",
    "    flux = np.load('cleaned_data/{}/flux_{}.npy'.format(star,i))\n",
    "    fluxerr = np.load('cleaned_data/{}/fluxerr_{}.npy'.format(star,i))\n",
    "    #collects/stitches cleaned data arrays from all sectors into a list\n",
    "    time_list.append(time)\n",
    "    flux_list.append(flux)\n",
    "    fluxerr_list.append(fluxerr)\n",
    "    \n",
    "#to flatten those lists of arrays into one array (per data type-flux,time,fluxerr)\n",
    "#concatenate takes a group of a bunch of arrays and appends them\n",
    "final_flux = np.concatenate(flux_list) \n",
    "final_fluxerr = np.concatenate(fluxerr_list)\n",
    "final_time = np.concatenate(time_list)\n",
    "\n",
    "print(time_list)"
   ]
  },
  {
   "cell_type": "code",
   "execution_count": null,
   "metadata": {},
   "outputs": [],
   "source": [
    "# collects the last time value from each sector for plotting below\n",
    "\n",
    "#################################################################################\n",
    "#################################################################################\n",
    "#sanity check:highest value in each time array\n",
    "edges=[]\n",
    "for i in time_list:\n",
    "    maxes = np.max(i)\n",
    "    edges.append(maxes)\n",
    "edges"
   ]
  },
  {
   "cell_type": "code",
   "execution_count": null,
   "metadata": {},
   "outputs": [],
   "source": [
    "# plotting and verifying looks good\n",
    "\n",
    "#################################################################################\n",
    "#################################################################################\n",
    "#every red line represents eand of sector\n",
    "#plot cleaned stitched lightcurve\n",
    "plt.figure(figsize = (12,5))\n",
    "plt.scatter(final_time,final_flux,s=1)\n",
    "plt.title('Cleaned Stitched LightCurve for TIC:{}'.format(newtable2['star_id'][0]));\n",
    "\n",
    "#plot ends of each sector to verify stitched all available! \n",
    "for i in edges:\n",
    "    plt.axvline(i,linestyle='--',c='r')"
   ]
  },
  {
   "cell_type": "code",
   "execution_count": null,
   "metadata": {},
   "outputs": [],
   "source": [
    "# final plot and saving arrays\n",
    "\n",
    "#################################################################################\n",
    "#################################################################################\n",
    "\n",
    "#plot cleaned stitched lightcurve\n",
    "plt.figure(figsize = (12,5))\n",
    "plt.scatter(final_time,final_flux,s=1)\n",
    "plt.ylabel('Normalized Flux',size=20)\n",
    "plt.xlabel('Time',size=20)\n",
    "plt.title('Cleaned Stitched LightCurve for Star#{}'.format(newtable2['star_id'][0]),fontsize=15);\n",
    "#plt.savefig('mid-year_pres-stitchedLC')\n",
    "\n",
    "\n",
    "\n",
    "#saving cleaned-stitched data\n",
    "\n",
    "#naming path\n",
    "pathname = 'stitched_data/{}/'.format(star) #uses star id from the top of notebook\n",
    "os.makedirs(os.path.dirname(pathname), exist_ok=True) #checks if folder exists and makes if it doesnt\n",
    "#naming & saving clean data arrays\n",
    "np.save(pathname + 'time_3ndversion',final_time) \n",
    "np.save(pathname + 'flux_3ndversion',final_flux)\n",
    "np.save(pathname + 'fluxerr_3ndversion',final_fluxerr)"
   ]
  },
  {
   "cell_type": "code",
   "execution_count": null,
   "metadata": {},
   "outputs": [],
   "source": []
  }
 ],
 "metadata": {
  "kernelspec": {
   "display_name": "Python 3",
   "language": "python",
   "name": "python3"
  },
  "language_info": {
   "codemirror_mode": {
    "name": "ipython",
    "version": 3
   },
   "file_extension": ".py",
   "mimetype": "text/x-python",
   "name": "python",
   "nbconvert_exporter": "python",
   "pygments_lexer": "ipython3",
   "version": "3.7.3"
  }
 },
 "nbformat": 4,
 "nbformat_minor": 2
}
