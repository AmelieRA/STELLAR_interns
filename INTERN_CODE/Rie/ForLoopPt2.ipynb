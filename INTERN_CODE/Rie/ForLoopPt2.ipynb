{
 "cells": [
  {
   "cell_type": "code",
   "execution_count": 1,
   "metadata": {},
   "outputs": [],
   "source": [
    "import lightkurve as lk\n",
    "def detrend_data(star_id_list):\n",
    "    detrended_list = []\n",
    "    target_id_list = []\n",
    "    for i in star_id_list:\n",
    "        si = str(i)\n",
    "        start = 'TIC '\n",
    "        target_name = start + si\n",
    "        lcf = lk.search_lightcurvefile(target_name).download_all()\n",
    "        for c in lcf:\n",
    "            hdr = i.header()\n",
    "            sector = hdr['SECTOR']\n",
    "            detrended_data = c.PDCSAP_FLUX\n",
    "            targetID = detrended_data.targetid\n",
    "            detrended_list.append(detrended_data)\n",
    "            target_id_list.append(targetID)\n",
    "        info = np.array([target_id_list, ])\n",
    "    return detrended_list, target_id_list\n"
   ]
  },
  {
   "cell_type": "code",
   "execution_count": 9,
   "metadata": {},
   "outputs": [
    {
     "name": "stderr",
     "output_type": "stream",
     "text": [
      "Warning: 31% (6168/19692) of the cadences will be ignored due to the quality mask (quality_bitmask=175).\n",
      "Warning: 31% (6168/19692) of the cadences will be ignored due to the quality mask (quality_bitmask=175).\n",
      "Warning: 31% (6168/19692) of the cadences will be ignored due to the quality mask (quality_bitmask=175).\n"
     ]
    },
    {
     "data": {
      "text/plain": [
       "([TessLightCurve(TICID: 176872276),\n",
       "  TessLightCurve(TICID: 176872276),\n",
       "  TessLightCurve(TICID: 176872276),\n",
       "  TessLightCurve(TICID: 176872276),\n",
       "  TessLightCurve(TICID: 176872276),\n",
       "  TessLightCurve(TICID: 176872276),\n",
       "  TessLightCurve(TICID: 176872276),\n",
       "  TessLightCurve(TICID: 176872276),\n",
       "  TessLightCurve(TICID: 176872276),\n",
       "  TessLightCurve(TICID: 176872276),\n",
       "  TessLightCurve(TICID: 176872276),\n",
       "  TessLightCurve(TICID: 176872276),\n",
       "  TessLightCurve(TICID: 177256886),\n",
       "  TessLightCurve(TICID: 177256886),\n",
       "  TessLightCurve(TICID: 177256886),\n",
       "  TessLightCurve(TICID: 177256886),\n",
       "  TessLightCurve(TICID: 177256886),\n",
       "  TessLightCurve(TICID: 177256886),\n",
       "  TessLightCurve(TICID: 177256886),\n",
       "  TessLightCurve(TICID: 177256886),\n",
       "  TessLightCurve(TICID: 177256886),\n",
       "  TessLightCurve(TICID: 177256886),\n",
       "  TessLightCurve(TICID: 177256886),\n",
       "  TessLightCurve(TICID: 350619392),\n",
       "  TessLightCurve(TICID: 350619392),\n",
       "  TessLightCurve(TICID: 350619392),\n",
       "  TessLightCurve(TICID: 350619392),\n",
       "  TessLightCurve(TICID: 350619392),\n",
       "  TessLightCurve(TICID: 350619392),\n",
       "  TessLightCurve(TICID: 350619392),\n",
       "  TessLightCurve(TICID: 350619392),\n",
       "  TessLightCurve(TICID: 350619392),\n",
       "  TessLightCurve(TICID: 350619392),\n",
       "  TessLightCurve(TICID: 350619392),\n",
       "  TessLightCurve(TICID: 350619392),\n",
       "  TessLightCurve(TICID: 167126073),\n",
       "  TessLightCurve(TICID: 167126073),\n",
       "  TessLightCurve(TICID: 167126073),\n",
       "  TessLightCurve(TICID: 167126073),\n",
       "  TessLightCurve(TICID: 167126073),\n",
       "  TessLightCurve(TICID: 167126073),\n",
       "  TessLightCurve(TICID: 167126073),\n",
       "  TessLightCurve(TICID: 167126073),\n",
       "  TessLightCurve(TICID: 167126073)],\n",
       " [176872276,\n",
       "  176872276,\n",
       "  176872276,\n",
       "  176872276,\n",
       "  176872276,\n",
       "  176872276,\n",
       "  176872276,\n",
       "  176872276,\n",
       "  176872276,\n",
       "  176872276,\n",
       "  176872276,\n",
       "  176872276,\n",
       "  177256886,\n",
       "  177256886,\n",
       "  177256886,\n",
       "  177256886,\n",
       "  177256886,\n",
       "  177256886,\n",
       "  177256886,\n",
       "  177256886,\n",
       "  177256886,\n",
       "  177256886,\n",
       "  177256886,\n",
       "  350619392,\n",
       "  350619392,\n",
       "  350619392,\n",
       "  350619392,\n",
       "  350619392,\n",
       "  350619392,\n",
       "  350619392,\n",
       "  350619392,\n",
       "  350619392,\n",
       "  350619392,\n",
       "  350619392,\n",
       "  350619392,\n",
       "  167126073,\n",
       "  167126073,\n",
       "  167126073,\n",
       "  167126073,\n",
       "  167126073,\n",
       "  167126073,\n",
       "  167126073,\n",
       "  167126073,\n",
       "  167126073])"
      ]
     },
     "execution_count": 9,
     "metadata": {},
     "output_type": "execute_result"
    }
   ],
   "source": [
    "IDlist = [176872276, 177256886,350619392, 167126073]\n",
    "\n",
    "detrend_data(IDlist)"
   ]
  },
  {
   "cell_type": "code",
   "execution_count": null,
   "metadata": {},
   "outputs": [],
   "source": []
  }
 ],
 "metadata": {
  "kernelspec": {
   "display_name": "Python 3",
   "language": "python",
   "name": "python3"
  },
  "language_info": {
   "codemirror_mode": {
    "name": "ipython",
    "version": 3
   },
   "file_extension": ".py",
   "mimetype": "text/x-python",
   "name": "python",
   "nbconvert_exporter": "python",
   "pygments_lexer": "ipython3",
   "version": "3.7.3"
  }
 },
 "nbformat": 4,
 "nbformat_minor": 2
}
