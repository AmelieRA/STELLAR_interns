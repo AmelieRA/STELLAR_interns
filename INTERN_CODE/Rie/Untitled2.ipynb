{
 "cells": [
  {
   "cell_type": "code",
   "execution_count": 1,
   "metadata": {},
   "outputs": [],
   "source": [
    "import lightkurve as lk\n",
    "import numpy as np\n",
    "\n",
    "def detrend_data(star_id_list):\n",
    "\tdetrended_list = []\n",
    "\ttarget_id_list = []\n",
    "\tsector_list = []\n",
    "\tfor i in star_id_list:\n",
    "\t\tsi = str(i)\n",
    "\t\tid_pre = 'TIC '\n",
    "\t\tnew_star_id = id_pre + si\n",
    "\t\tlcf = lk.search_lightcurvefile(new_star_id).download_all()\n",
    "\t\tfor i in lcf:\n",
    "\t\t\thdr = i.header()\n",
    "\t\t\tsector = hdr['SECTOR']\n",
    "\t\t\tdetrended_data = i.PDCSAP_FLUX\n",
    "\t\t\ttarget_id = i.targetid\n",
    "\t\t\tsector_list.append(sector)\n",
    "\t\t\tdetrended_list.append(detrended_data)\n",
    "\t\t\ttarget_id_list.append(target_id)\n",
    "            #print('left here')\n",
    "\t\tinfo_ = np.array([target_id_list,sector_list],np.int32)\n",
    "\treturn detrended_list, info_"
   ]
  },
  {
   "cell_type": "code",
   "execution_count": null,
   "metadata": {},
   "outputs": [],
   "source": [
    "#REVIEW ALL data- develop an intution\n",
    "#176872276, 177256886, 350619392, 167126073"
   ]
  },
  {
   "cell_type": "code",
   "execution_count": 2,
   "metadata": {},
   "outputs": [
    {
     "ename": "TypeError",
     "evalue": "'int' object is not iterable",
     "output_type": "error",
     "traceback": [
      "\u001b[0;31m---------------------------------------------------------------------------\u001b[0m",
      "\u001b[0;31mTypeError\u001b[0m                                 Traceback (most recent call last)",
      "\u001b[0;32m<ipython-input-2-5f605f182b11>\u001b[0m in \u001b[0;36m<module>\u001b[0;34m\u001b[0m\n\u001b[0;32m----> 1\u001b[0;31m \u001b[0mdetrend_data\u001b[0m\u001b[0;34m(\u001b[0m\u001b[0;36m176872276\u001b[0m\u001b[0;34m)\u001b[0m\u001b[0;34m\u001b[0m\u001b[0;34m\u001b[0m\u001b[0m\n\u001b[0m",
      "\u001b[0;32m<ipython-input-1-eb2bb667937b>\u001b[0m in \u001b[0;36mdetrend_data\u001b[0;34m(star_id_list)\u001b[0m\n\u001b[1;32m      6\u001b[0m         \u001b[0mtarget_id_list\u001b[0m \u001b[0;34m=\u001b[0m \u001b[0;34m[\u001b[0m\u001b[0;34m]\u001b[0m\u001b[0;34m\u001b[0m\u001b[0;34m\u001b[0m\u001b[0m\n\u001b[1;32m      7\u001b[0m         \u001b[0msector_list\u001b[0m \u001b[0;34m=\u001b[0m \u001b[0;34m[\u001b[0m\u001b[0;34m]\u001b[0m\u001b[0;34m\u001b[0m\u001b[0;34m\u001b[0m\u001b[0m\n\u001b[0;32m----> 8\u001b[0;31m         \u001b[0;32mfor\u001b[0m \u001b[0mi\u001b[0m \u001b[0;32min\u001b[0m \u001b[0mstar_id_list\u001b[0m\u001b[0;34m:\u001b[0m\u001b[0;34m\u001b[0m\u001b[0;34m\u001b[0m\u001b[0m\n\u001b[0m\u001b[1;32m      9\u001b[0m                 \u001b[0msi\u001b[0m \u001b[0;34m=\u001b[0m \u001b[0mstr\u001b[0m\u001b[0;34m(\u001b[0m\u001b[0mi\u001b[0m\u001b[0;34m)\u001b[0m\u001b[0;34m\u001b[0m\u001b[0;34m\u001b[0m\u001b[0m\n\u001b[1;32m     10\u001b[0m                 \u001b[0mid_pre\u001b[0m \u001b[0;34m=\u001b[0m \u001b[0;34m'TIC '\u001b[0m\u001b[0;34m\u001b[0m\u001b[0;34m\u001b[0m\u001b[0m\n",
      "\u001b[0;31mTypeError\u001b[0m: 'int' object is not iterable"
     ]
    }
   ],
   "source": [
    "detrend_data(176872276)"
   ]
  },
  {
   "cell_type": "code",
   "execution_count": null,
   "metadata": {},
   "outputs": [],
   "source": []
  }
 ],
 "metadata": {
  "kernelspec": {
   "display_name": "Python 3",
   "language": "python",
   "name": "python3"
  },
  "language_info": {
   "codemirror_mode": {
    "name": "ipython",
    "version": 3
   },
   "file_extension": ".py",
   "mimetype": "text/x-python",
   "name": "python",
   "nbconvert_exporter": "python",
   "pygments_lexer": "ipython3",
   "version": "3.7.3"
  }
 },
 "nbformat": 4,
 "nbformat_minor": 2
}
