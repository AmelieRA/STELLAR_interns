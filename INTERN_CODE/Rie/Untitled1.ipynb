{
 "cells": [
  {
   "cell_type": "code",
   "execution_count": 2,
   "metadata": {},
   "outputs": [],
   "source": [
    "import numpy as np"
   ]
  },
  {
   "cell_type": "code",
   "execution_count": 3,
   "metadata": {},
   "outputs": [
    {
     "name": "stdout",
     "output_type": "stream",
     "text": [
      "[[0.00273534 0.49956582]\n",
      " [0.43868695 0.78579451]\n",
      " [0.41248802 0.4508153 ]\n",
      " [0.82127928 0.68821905]\n",
      " [0.98860024 0.80995607]\n",
      " [0.14357442 0.74137455]\n",
      " [0.91214171 0.69585893]\n",
      " [0.3322861  0.7849531 ]\n",
      " [0.40068673 0.87370191]\n",
      " [0.65845317 0.19986397]\n",
      " [0.62590106 0.67094128]\n",
      " [0.31016493 0.24189369]\n",
      " [0.201492   0.31941451]\n",
      " [0.79707047 0.36351649]\n",
      " [0.62309132 0.86066798]\n",
      " [0.3544479  0.79003466]\n",
      " [0.18629879 0.24510335]\n",
      " [0.3159938  0.25359795]\n",
      " [0.02812953 0.04140267]\n",
      " [0.37909756 0.75063203]]\n"
     ]
    }
   ],
   "source": [
    "data = np.random.random_sample((20, 2))\n",
    "print(data)"
   ]
  },
  {
   "cell_type": "code",
   "execution_count": 4,
   "metadata": {},
   "outputs": [
    {
     "name": "stdout",
     "output_type": "stream",
     "text": [
      "[0.  0.5 1.  1.5 2.  2.5 3.  3.5 4.  4.5 5.  5.5 6.  6.5 7.  7.5 8.  8.5\n",
      " 9.  9.5]\n"
     ]
    }
   ],
   "source": [
    "a = np.arange(0, 10, 0.5)\n",
    "print(a)"
   ]
  },
  {
   "cell_type": "code",
   "execution_count": 12,
   "metadata": {},
   "outputs": [
    {
     "name": "stdout",
     "output_type": "stream",
     "text": [
      "[[0.00000000e+00 2.73533744e-03 4.99565815e-01]\n",
      " [5.00000000e-01 4.38686955e-01 7.85794505e-01]\n",
      " [1.00000000e+00 4.12488018e-01 4.50815299e-01]\n",
      " [1.50000000e+00 8.21279284e-01 6.88219055e-01]\n",
      " [2.00000000e+00 9.88600241e-01 8.09956070e-01]\n",
      " [2.50000000e+00 1.43574417e-01 7.41374553e-01]\n",
      " [3.00000000e+00 9.12141713e-01 6.95858931e-01]\n",
      " [3.50000000e+00 3.32286104e-01 7.84953105e-01]\n",
      " [4.00000000e+00 4.00686729e-01 8.73701912e-01]\n",
      " [4.50000000e+00 6.58453167e-01 1.99863966e-01]\n",
      " [5.00000000e+00 6.25901055e-01 6.70941283e-01]\n",
      " [5.50000000e+00 3.10164930e-01 2.41893685e-01]\n",
      " [6.00000000e+00 2.01492000e-01 3.19414513e-01]\n",
      " [6.50000000e+00 7.97070467e-01 3.63516492e-01]\n",
      " [7.00000000e+00 6.23091316e-01 8.60667982e-01]\n",
      " [7.50000000e+00 3.54447900e-01 7.90034661e-01]\n",
      " [8.00000000e+00 1.86298789e-01 2.45103349e-01]\n",
      " [8.50000000e+00 3.15993799e-01 2.53597951e-01]\n",
      " [9.00000000e+00 2.81295310e-02 4.14026696e-02]\n",
      " [9.50000000e+00 3.79097557e-01 7.50632029e-01]]\n"
     ]
    }
   ],
   "source": [
    "datao = np.insert(data, 0, a, axis=1)\n",
    "print(datao)"
   ]
  },
  {
   "cell_type": "code",
   "execution_count": 40,
   "metadata": {},
   "outputs": [
    {
     "name": "stdout",
     "output_type": "stream",
     "text": [
      "[0.  0.5 1.  1.5 2.  2.5 3.  3.5 7.5 8.  8.5 9.  9.5]\n",
      "13\n"
     ]
    }
   ],
   "source": [
    "mask1 = (a >= 4.0) & (a <= 7)\n",
    "print(a[~mask1])\n",
    "\n",
    "\n",
    "print(datao[])\n",
    "#mask2 = data < 0.5\n",
    "#print data[mask2]\n",
    "#mask4 = (data < 0.2) | (data > 0.8)\n",
    "print(len(masky))"
   ]
  },
  {
   "cell_type": "code",
   "execution_count": 44,
   "metadata": {},
   "outputs": [
    {
     "ename": "SyntaxError",
     "evalue": "invalid syntax (<ipython-input-44-5932000476f2>, line 4)",
     "output_type": "error",
     "traceback": [
      "\u001b[0;36m  File \u001b[0;32m\"<ipython-input-44-5932000476f2>\"\u001b[0;36m, line \u001b[0;32m4\u001b[0m\n\u001b[0;31m    print (datao(mask2])\u001b[0m\n\u001b[0m                      ^\u001b[0m\n\u001b[0;31mSyntaxError\u001b[0m\u001b[0;31m:\u001b[0m invalid syntax\n"
     ]
    }
   ],
   "source": [
    "\n",
    "\n",
    "mask2 = (datao[:, 0] >= 4.0) & (datao[:,0] <= 7)\n",
    "print (datao[mask2])\n",
    "       \n",
    "\n"
   ]
  },
  {
   "cell_type": "code",
   "execution_count": 47,
   "metadata": {},
   "outputs": [
    {
     "name": "stdout",
     "output_type": "stream",
     "text": [
      "13\n"
     ]
    }
   ],
   "source": [
    "Column1 = datao[:, 0]\n",
    "\n",
    "Column2 = datao[:, 1]\n",
    "Column3 = datao[:, 2]\n",
    "\n",
    "\n",
    "print(Column2[~mask1])"
   ]
  },
  {
   "cell_type": "code",
   "execution_count": 48,
   "metadata": {},
   "outputs": [
    {
     "name": "stdout",
     "output_type": "stream",
     "text": [
      "[0.49956582 0.78579451 0.4508153  0.68821905 0.80995607 0.74137455\n",
      " 0.69585893 0.7849531  0.79003466 0.24510335 0.25359795 0.04140267\n",
      " 0.75063203]\n"
     ]
    }
   ],
   "source": [
    "print(Column3[~mask1])"
   ]
  },
  {
   "cell_type": "code",
   "execution_count": null,
   "metadata": {},
   "outputs": [],
   "source": [
    "#project time series analysis"
   ]
  },
  {
   "cell_type": "code",
   "execution_count": null,
   "metadata": {},
   "outputs": [],
   "source": [
    "#plt.axhline(n, color = 'r', linestyle='--')"
   ]
  }
 ],
 "metadata": {
  "kernelspec": {
   "display_name": "Python 3",
   "language": "python",
   "name": "python3"
  },
  "language_info": {
   "codemirror_mode": {
    "name": "ipython",
    "version": 3
   },
   "file_extension": ".py",
   "mimetype": "text/x-python",
   "name": "python",
   "nbconvert_exporter": "python",
   "pygments_lexer": "ipython3",
   "version": "3.7.3"
  }
 },
 "nbformat": 4,
 "nbformat_minor": 2
}
