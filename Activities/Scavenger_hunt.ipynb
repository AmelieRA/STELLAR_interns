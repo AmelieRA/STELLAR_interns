{
 "cells": [
  {
   "cell_type": "code",
   "execution_count": 2,
   "metadata": {},
   "outputs": [],
   "source": [
    "%matplotlib inline\n",
    "import numpy as np\n"
   ]
  },
  {
   "cell_type": "markdown",
   "metadata": {},
   "source": [
    "# Scavenger Hunt"
   ]
  },
  {
   "cell_type": "code",
   "execution_count": 28,
   "metadata": {},
   "outputs": [],
   "source": [
    "#list of stars availble to find within the Rose Center\n",
    "RoseCenterStars = ['The Sun','Rigel','Alpha_Centauri','Sirius','Vega','Gilese_229B','Arcturus','Betelgeuse','Proxima_Centauri','Barnards_Star','Gilese65','Polaris','SiriusB','Antares','Spica','Pulsar_J1939+2134','51_Pegasi']"
   ]
  },
  {
   "cell_type": "code",
   "execution_count": 29,
   "metadata": {},
   "outputs": [],
   "source": [
    "#generates random indicies to pick your stars\n",
    "random_numbers = np.random.randint(0,len(RoseCenterStars),5)\n",
    "lucky_number = int(np.random.randint(0,len(random_numbers),1))"
   ]
  },
  {
   "cell_type": "code",
   "execution_count": 31,
   "metadata": {},
   "outputs": [
    {
     "name": "stdout",
     "output_type": "stream",
     "text": [
      "Your group must find these stars: ['Vega', 'Betelgeuse', 'Alpha_Centauri', 'Arcturus', 'Barnards_Star'] and your \"lucky star\" is: Arcturus\n"
     ]
    }
   ],
   "source": [
    "#generates the names of the stars you should search for\n",
    "Stars2SearchFor=[]\n",
    "for number in random_numbers:\n",
    "    star = RoseCenterStars[number] #b/c index must be scalar, not an array or list\n",
    "    Stars2SearchFor.append(star)\n",
    "lucky_star= Stars2SearchFor[lucky_number]\n",
    "\n",
    "print('Your group must find these stars:',\n",
    "      Stars2SearchFor,'and your \"lucky star\" is:',lucky_star)"
   ]
  },
  {
   "cell_type": "markdown",
   "metadata": {},
   "source": [
    "#### Now combine your list of star names with the lists from others in your group.  The group is responsible for finding all the stars in the combined list. *IMPORTANT:* Learn about your \"lucky star\" and be prepared to describe it when we regroup. \n",
    "### GOOD LUCK! "
   ]
  },
  {
   "cell_type": "code",
   "execution_count": null,
   "metadata": {},
   "outputs": [],
   "source": []
  },
  {
   "cell_type": "code",
   "execution_count": null,
   "metadata": {},
   "outputs": [],
   "source": []
  },
  {
   "cell_type": "code",
   "execution_count": null,
   "metadata": {},
   "outputs": [],
   "source": []
  }
 ],
 "metadata": {
  "kernelspec": {
   "display_name": "Python 3",
   "language": "python",
   "name": "python3"
  },
  "language_info": {
   "codemirror_mode": {
    "name": "ipython",
    "version": 3
   },
   "file_extension": ".py",
   "mimetype": "text/x-python",
   "name": "python",
   "nbconvert_exporter": "python",
   "pygments_lexer": "ipython3",
   "version": "3.7.3"
  }
 },
 "nbformat": 4,
 "nbformat_minor": 2
}
